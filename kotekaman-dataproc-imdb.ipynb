{
 "cells": [
  {
   "cell_type": "code",
   "execution_count": 1,
   "metadata": {},
   "outputs": [],
   "source": [
    "import org.apache.spark.sql.functions._\n",
    "import org.apache.spark.sql.SparkSession._\n",
    "import org.apache.spark.sql.{DataFrame,Column}\n",
    "import org.json4s._\n",
    "import org.json4s.jackson.JsonMethods._"
   ]
  },
  {
   "cell_type": "code",
   "execution_count": 3,
   "metadata": {},
   "outputs": [
    {
     "data": {
      "text/plain": [
       "spark = org.apache.spark.sql.SparkSession@27ab3a2c\n"
      ]
     },
     "metadata": {},
     "output_type": "display_data"
    },
    {
     "data": {
      "text/html": [
       "<ul>\n",
       "<li><a href=\"Some(http://ip-172-31-38-146.ec2.internal:4044)\" target=\"new_tab\">Spark UI: local-1558076652834</a></li>\n",
       "</ul>"
      ],
      "text/plain": [
       "Spark local-1558076652834: Some(http://ip-172-31-38-146.ec2.internal:4044)"
      ]
     },
     "execution_count": 3,
     "metadata": {},
     "output_type": "execute_result"
    }
   ],
   "source": [
    "val spark = builder.master(\"yarn-mode\").appName(\"Data Preprocessing\").getOrCreate;"
   ]
  },
  {
   "cell_type": "code",
   "execution_count": 4,
   "metadata": {},
   "outputs": [
    {
     "data": {
      "text/plain": [
       "getNameCollection: org.apache.spark.sql.expressions.UserDefinedFunction\n"
      ]
     },
     "metadata": {},
     "output_type": "display_data"
    }
   ],
   "source": [
    "def getNameCollection = udf((entry: String) => {\n",
    "\t// ubah None jadi null\n",
    " \tval clearNone = entry.replaceAll(\"None\", \"null\")\n",
    "\n",
    " \t// jika value json stringnya ' maka harus digantikan dengan \"\n",
    " \tval cleanq = clearNone.replaceAll(\"'\", \"\\\"\")\n",
    "\n",
    "\n",
    " \t// ambil value\n",
    " \ttry {\n",
    " \t\tval parser = parse(cleanq)\n",
    " \t\t def scalaFiles = for {\n",
    "         JObject(child) <- parser\n",
    "         JField(\"name\", JString(name))  <- child\n",
    "       } yield name\n",
    "    \tscalaFiles\n",
    " \t} catch {\n",
    " \t\t case e: Exception => List(null)\n",
    " \t}\n",
    "\n",
    "     })"
   ]
  },
  {
   "cell_type": "code",
   "execution_count": null,
   "metadata": {},
   "outputs": [],
   "source": [
    "val df = spark.read.format(\"csv\").option(\"inferSchema\", \"true\").option(\"header\",\"true\").option(\"quote\",\"\\\"\").option(\"delimiter\",\";\").load(\"train2.csv\")"
   ]
  },
  {
   "cell_type": "code",
   "execution_count": null,
   "metadata": {},
   "outputs": [],
   "source": []
  },
  {
   "cell_type": "code",
   "execution_count": null,
   "metadata": {},
   "outputs": [],
   "source": [
    "// getdatas\n",
    "val newdf = df.select(\"id\",\"belongs_to_collection\",\"genres\",\"spoken_languages\",\"Keywords\",\"cast\",\"crew\",\"title\",\"tagline\",\"Revenue\").\n",
    "withColumn(\"collection\",\n",
    "\t\twhen(\n",
    "              col(\"belongs_to_collection\").isNotNull,\n",
    "              getNameCollection(new Column(\"belongs_to_collection\"))\n",
    "            )\n",
    "\t).\n",
    "withColumn(\"newgenres\",\n",
    "\t\twhen(\n",
    "              col(\"genres\").isNotNull,\n",
    "              getNameCollection(new Column(\"genres\"))\n",
    "            )\n",
    "\t).\n",
    "withColumn(\"newspoken\",\n",
    "\t\twhen(\n",
    "              col(\"spoken_languages\").isNotNull,\n",
    "              getNameCollection(new Column(\"spoken_languages\"))\n",
    "            )\n",
    "\t).\n",
    "withColumn(\"newkeywords\",\n",
    "\t\twhen(\n",
    "              col(\"Keywords\").isNotNull,\n",
    "              getNameCollection(new Column(\"Keywords\"))\n",
    "            )\n",
    "\t).\n",
    "withColumn(\"newcast\",\n",
    "\t\twhen(\n",
    "              col(\"cast\").isNotNull,\n",
    "              getNameCollection(new Column(\"cast\"))\n",
    "            )\n",
    "\t).\n",
    "withColumn(\"newcrew\",\n",
    "\t\twhen(\n",
    "              col(\"crew\").isNotNull,\n",
    "              getNameCollection(new Column(\"crew\"))\n",
    "            )\n",
    "\t).\n",
    "select(\"id\",\"collection\",\"newgenres\",\"newspoken\",\"newkeywords\",\"newcast\",\"newcrew\",\"title\",\"tagline\",\"Revenue\").\n",
    "withColumnRenamed(\"newgenres\",\"genres\").\n",
    "withColumnRenamed(\"newkeywords\",\"keywords\").\n",
    "withColumnRenamed(\"newcast\",\"cast\").\n",
    "withColumnRenamed(\"newcrew\",\"crew\").\n",
    "withColumnRenamed(\"newspoken\",\"spoken\")"
   ]
  },
  {
   "cell_type": "code",
   "execution_count": null,
   "metadata": {},
   "outputs": [],
   "source": [
    "val dfclean = (\n",
    "    newdf.withColumn(\"tempcollection\",explode_outer(col(\"collection\")))\n",
    "    .withColumn(\"tempgenres\",explode_outer(col(\"genres\")))\n",
    "    .withColumn(\"tempspoken\",explode_outer(col(\"spoken\")))\n",
    "    .withColumn(\"tempkeywords\",explode_outer(col(\"keywords\")))\n",
    "    .withColumn(\"tempcast\",explode_outer(col(\"cast\")))\n",
    "    .withColumn(\"tempcrew\",explode_outer(col(\"crew\")))\n",
    "    .select(\"id\",\"tempcollection\",\"tempgenres\",\"tempspoken\",\"tempkeywords\",\"tempcast\",\"tempcrew\",\"tagline\",\"Revenue\")\n",
    "    .withColumnRenamed(\"tempcollection\",\"collection\")\n",
    "    .withColumnRenamed(\"tempgenres\",\"genres\")\n",
    "    .withColumnRenamed(\"tempspoken\",\"spoken\")\n",
    "    .withColumnRenamed(\"tempkeywords\",\"keywords\")\n",
    "    .withColumnRenamed(\"tempcast\",\"cast\")\n",
    "    .withColumnRenamed(\"tempcrew\",\"crew\")\n",
    "    )"
   ]
  },
  {
   "cell_type": "code",
   "execution_count": null,
   "metadata": {
    "slideshow": {
     "slide_type": "skip"
    }
   },
   "outputs": [],
   "source": [
    "output dfclean:\n",
    "+---+--------------------+------+-------+-----------+--------------------+----+--------------------+--------+\n",
    "| id|          collection|genres| spoken|   keywords|                cast|crew|             tagline| Revenue|\n",
    "+---+--------------------+------+-------+-----------+--------------------+----+--------------------+--------+\n",
    "|  1|Hot Tub Time Mach...|Comedy|English|time travel|         Rob Corddry|null|The Laws of Space...|12314651|\n",
    "|  1|Hot Tub Time Mach...|Comedy|English|time travel|      Craig Robinson|null|The Laws of Space...|12314651|\n",
    "|  1|Hot Tub Time Mach...|Comedy|English|time travel|          Clark Duke|null|The Laws of Space...|12314651|\n",
    "|  1|Hot Tub Time Mach...|Comedy|English|time travel|          Adam Scott|null|The Laws of Space...|12314651|\n",
    "|  1|Hot Tub Time Mach...|Comedy|English|time travel|         Chevy Chase|null|The Laws of Space...|12314651|\n",
    "|  1|Hot Tub Time Mach...|Comedy|English|time travel|      Gillian Jacobs|null|The Laws of Space...|12314651|\n",
    "|  1|Hot Tub Time Mach...|Comedy|English|time travel|        Bianca Haase|null|The Laws of Space...|12314651|\n",
    "|  1|Hot Tub Time Mach...|Comedy|English|time travel|      Collette Wolfe|null|The Laws of Space...|12314651|\n",
    "|  1|Hot Tub Time Mach...|Comedy|English|time travel|     Kumail Nanjiani|null|The Laws of Space...|12314651|\n",
    "|  1|Hot Tub Time Mach...|Comedy|English|time travel|      Kellee Stewart|null|The Laws of Space...|12314651|\n",
    "|  1|Hot Tub Time Mach...|Comedy|English|time travel|          Josh Heald|null|The Laws of Space...|12314651|\n",
    "|  1|Hot Tub Time Mach...|Comedy|English|time travel|    Gretchen Koerner|null|The Laws of Space...|12314651|\n",
    "|  1|Hot Tub Time Mach...|Comedy|English|time travel|           Lisa Loeb|null|The Laws of Space...|12314651|\n",
    "|  1|Hot Tub Time Mach...|Comedy|English|time travel|    Jessica Williams|null|The Laws of Space...|12314651|\n",
    "|  1|Hot Tub Time Mach...|Comedy|English|time travel|        Bruce Buffer|null|The Laws of Space...|12314651|\n",
    "|  1|Hot Tub Time Mach...|Comedy|English|time travel|Mariana Paola Vic...|null|The Laws of Space...|12314651|\n",
    "|  1|Hot Tub Time Mach...|Comedy|English|time travel|    Christian Slater|null|The Laws of Space...|12314651|\n",
    "|  1|Hot Tub Time Mach...|Comedy|English|time travel|         Jason Jones|null|The Laws of Space...|12314651|\n",
    "|  1|Hot Tub Time Mach...|Comedy|English|time travel|       Olivia Jordan|null|The Laws of Space...|12314651|\n",
    "|  1|Hot Tub Time Mach...|Comedy|English|time travel|    Christine Bently|null|The Laws of Space...|12314651|\n",
    "+---+--------------------+------+-------+-----------+--------------------+----+--------------------+--------+"
   ]
  }
 ],
 "metadata": {
  "kernelspec": {
   "display_name": "Apache Toree - Scala",
   "language": "scala",
   "name": "apache_toree_scala"
  },
  "language_info": {
   "codemirror_mode": "text/x-scala",
   "file_extension": ".scala",
   "mimetype": "text/x-scala",
   "name": "scala",
   "pygments_lexer": "scala",
   "version": "2.11.8"
  },
  "toc": {
   "base_numbering": 1,
   "nav_menu": {},
   "number_sections": true,
   "sideBar": true,
   "skip_h1_title": false,
   "title_cell": "Table of Contents",
   "title_sidebar": "Contents",
   "toc_cell": false,
   "toc_position": {},
   "toc_section_display": true,
   "toc_window_display": false
  }
 },
 "nbformat": 4,
 "nbformat_minor": 2
}
